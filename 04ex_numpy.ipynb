{
 "cells": [
  {
   "cell_type": "markdown",
   "metadata": {},
   "source": [
    "1\\. **Reductions**\n",
    "\n",
    "Given the following matrix:\n",
    "\n",
    "```python\n",
    "m = np.arange(12).reshape((3,4))\n",
    "```\n",
    "\n",
    "   1. find the total mean\n",
    "   2. find the mean for each row and column"
   ]
  },
  {
   "cell_type": "code",
   "execution_count": 124,
   "metadata": {},
   "outputs": [],
   "source": [
    "import numpy as np\n",
    "import timeit\n",
    "import numpy.random as npr"
   ]
  },
  {
   "cell_type": "code",
   "execution_count": null,
   "metadata": {},
   "outputs": [],
   "source": [
    "m = np.arange(12).reshape((3,4))\n",
    "print(m)\n",
    "\n",
    "print('Total mean',m.mean())\n",
    "print('Mean for each col',m.mean(axis=0))\n",
    "print('Mean for each row',m.mean(axis=1))\n"
   ]
  },
  {
   "cell_type": "markdown",
   "metadata": {},
   "source": [
    "2\\. **Outer product**\n",
    "\n",
    "Find the outer product of the following vectors:\n",
    "\n",
    "```python\n",
    "u = np.array([1, 3, 5, 7])\n",
    "v = np.array([2, 4, 6, 8])\n",
    "```\n",
    "\n",
    "Use different methods to do this:\n",
    "\n",
    "   1. Using the function `outer` in numpy\n",
    "   2. Using a nested `for` loop or a list comprehension\n",
    "   3. Using numpy broadcasting operations"
   ]
  },
  {
   "cell_type": "code",
   "execution_count": null,
   "metadata": {},
   "outputs": [],
   "source": [
    "u = np.array([1, 3, 5, 7])\n",
    "v = np.array([2, 4, 6, 8])\n",
    "print('u =',u)\n",
    "print('v =',v)\n",
    "\n",
    "print('\\nusing the function outer in numpy\\n',np.outer(u,v))\n",
    "print('\\nusing a nested for loop or a list comprehension')\n",
    "matrix = []\n",
    "for i in range(len(u)):\n",
    "    for j in range(len(v)):\n",
    "        matrix.append(u[i]*v[j])\n",
    "    \n",
    "    \n",
    "A = np.array(matrix).reshape(len(u),len(v))\n",
    "print(A)\n",
    "\n",
    "u = u[:,np.newaxis]\n",
    "print('\\nusing numpy broadcasting operations\\n',u*v)\n"
   ]
  },
  {
   "cell_type": "code",
   "execution_count": null,
   "metadata": {},
   "outputs": [],
   "source": []
  },
  {
   "cell_type": "markdown",
   "metadata": {},
   "source": [
    "3\\. **Matrix masking**\n",
    "\n",
    "Create a $10 \\times 6$ matrix of float random numbers, distributed between 0 and 3 according to a flat distribution.\n",
    "\n",
    "After creating the matrix, set all entries $< 0.3$ to zero using a mask."
   ]
  },
  {
   "cell_type": "code",
   "execution_count": null,
   "metadata": {},
   "outputs": [],
   "source": [
    "import numpy.random as npr\n",
    "A = npr.uniform(low=0.0, high=3.0, size=(10,6))\n",
    "print('10 x 6 matrix with rand values between 0 and 3\\n',A)\n",
    "mask =(A<0.3)\n",
    "A[A<0.3]=0\n",
    "print('\\n10 x 6 matrix modified\\n',A)"
   ]
  },
  {
   "cell_type": "markdown",
   "metadata": {},
   "source": [
    "4\\. **Trigonometric functions**\n",
    "\n",
    "Use `np.linspace` to create an array of 100 numbers between $0$ and $2\\pi$ (inclusive).\n",
    "\n",
    "  * Extract every 10th element using the slice notation\n",
    "  * Reverse the array using the slice notation\n",
    "  * Extract elements where the absolute difference between the `sin` and `cos` functions evaluated for that element is $< 0.1$\n",
    "  * **Optional**: make a plot showing the `sin` and `cos` functions and indicate graphically (with a line or a marker) where they are close"
   ]
  },
  {
   "cell_type": "code",
   "execution_count": null,
   "metadata": {},
   "outputs": [],
   "source": [
    "pi = np.linspace(0,2*np.pi,100)\n",
    "print('array pi:\\n',pi)\n",
    "print('Extract every 10th element using the slice notation:\\n',pi[::10])\n",
    "print('Reverse the array using the slice notation:\\n',pi[::-1])\n",
    "print('Extract elements where the absolute difference between the sin and cos functions evaluated for that element is  <0.1')\n",
    "print(pi[np.sin(pi)-np.cos(pi)<0.1])\n",
    "\n"
   ]
  },
  {
   "cell_type": "markdown",
   "metadata": {},
   "source": [
    "5\\. **Matrices**\n",
    "\n",
    "Create a matrix that shows the $10 \\times 10$ multiplication table.\n",
    "\n",
    " * Find the trace of the matrix\n",
    " * Extract the anti-diagonal matrix (this should be ```array([10, 18, 24, 28, 30, 30, 28, 24, 18, 10])```)\n",
    " * Extract the diagonal offset by 1 upwards (this should be ```array([ 2,  6, 12, 20, 30, 42, 56, 72, 90])```)"
   ]
  },
  {
   "cell_type": "code",
   "execution_count": null,
   "metadata": {},
   "outputs": [],
   "source": [
    "mx = np.fromfunction(lambda i,j: (i+1)*(j+1), (10,10))\n",
    "print('Matrix:\\n',mx)\n",
    "\n",
    "print('Find the trace of the matrix: ',np.sum(np.diag(mx)))\n",
    "print('Extract the anti-diagonal matrix (this should be array([10, 18, 24, 28, 30, 30, 28, 24, 18, 10])):')\n",
    "print(np.diag(np.fliplr(mx)))\n",
    "print('Extract the diagonal offset by 1 upwards (this should be array([ 2,  6, 12, 20, 30, 42, 56, 72, 90])):')\n",
    "print(np.diag(mx,1))"
   ]
  },
  {
   "cell_type": "markdown",
   "metadata": {},
   "source": [
    "6\\. **Broadcasting**\n",
    "\n",
    "Use broadcasting to create a grid of distances.\n",
    "\n",
    "Route 66 crosses the following cities in the US: Chicago, Springfield, Saint-Louis, Tulsa, Oklahoma City, Amarillo, Santa Fe, Albuquerque, Flagstaff, Los Angeles.\n",
    "\n",
    "The corresponding positions in miles are: `0, 198, 303, 736, 871, 1175, 1475, 1544, 1913, 2448`\n",
    "\n",
    "  * Build a 2D grid of distances among each city along Route 66\n",
    "  * Convert the distances in km"
   ]
  },
  {
   "cell_type": "code",
   "execution_count": null,
   "metadata": {},
   "outputs": [],
   "source": [
    "dist = np.array([0, 198, 303, 736, 871, 1175, 1475, 1544, 1913, 2448])\n",
    "print(dist)\n",
    "dist_vertical = dist.reshape(10,1)\n",
    "print(dist_vertical)\n",
    "matrix = np.triu(dist-dist_vertical)\n",
    "print(matrix)\n",
    "matrix_km = matrix * 1.60934\n",
    "print(matrix_km)"
   ]
  },
  {
   "cell_type": "markdown",
   "metadata": {},
   "source": [
    "7\\. **Prime numbers sieve**\n",
    "\n",
    "Compute the prime numbers in the 0-N (start with N=99) range with a sieve (mask).\n",
    "\n",
    "  * Construct a shape (N,) boolean array, which is the mask\n",
    "  * Identify the multiples of each number starting from 2 and set accordingly the corresponding mask element\n",
    "  * Apply the mask to obtain an array of ordered prime numbers\n",
    "  * Check the performances (with `timeit`); how does it scale with N?\n",
    "  * Implement the optimization suggested in the [sieve of Eratosthenes](https://en.wikipedia.org/wiki/Sieve_of_Eratosthenes)"
   ]
  },
  {
   "cell_type": "code",
   "execution_count": 122,
   "metadata": {},
   "outputs": [
    {
     "name": "stdout",
     "output_type": "stream",
     "text": [
      "[ 2  3  5  7 11 13 17 19 23 29 31 37 41 43 47 53 59 61 67 71 73 79 83 89\n",
      " 97]\n",
      "[ 2  3  5  7 11 13 17 19 23 29 31 37 41 43 47 53 59 61 67 71 73 79 83 89\n",
      " 97]\n",
      "Execution time 0.11178229202050716\n",
      "Execution time 0.08797012499417178\n"
     ]
    }
   ],
   "source": [
    "def primeNumbers(N):\n",
    "    arr = np.arange(2,N)\n",
    "    mask = (arr %2!=0)\n",
    "    mask[0]=True\n",
    "    arr = arr[mask]\n",
    "    mask = mask[mask]\n",
    "    for j in arr[arr>2]:\n",
    "        for i in arr[arr<j]:\n",
    "            if (j % i) == 0:\n",
    "                arr = arr[arr != j]\n",
    "                break\n",
    "    return arr\n",
    "    \n",
    "def primeNumbersEratosthenes(N):\n",
    "    arr = np.arange(2,N)\n",
    "    mask = (arr % 2 != 0)\n",
    "    arr = arr[mask]\n",
    "    mask = mask[mask]\n",
    "    primes = np.array([2])\n",
    "    while arr.shape[0]:\n",
    "        p = arr[0]\n",
    "        arr = arr[arr % p != 0]\n",
    "        \n",
    "        primes =  np.append(primes, p)\n",
    "\n",
    "    return primes\n",
    "\n",
    "    \n",
    "    \n",
    "    \n",
    "print(primeNumbers(100))\n",
    "print(primeNumbersEratosthenes(100))\n",
    "\n",
    "importing = \"import numpy as np\"\n",
    "primeNumbersForMeasurments = '''\n",
    "def primeNumbers(N):\n",
    "    arr = np.arange(2,N)\n",
    "    mask = (arr %2!=0)\n",
    "    mask[0]=True\n",
    "    arr = arr[mask]\n",
    "    mask = mask[mask]\n",
    "    for j in arr[arr>2]:\n",
    "        for i in arr[arr<j]:\n",
    "            if (j % i) == 0:\n",
    "                arr = arr[arr != j]\n",
    "                break\n",
    "    return arr\n",
    "\n",
    "primeNumbers(100)\n",
    "'''\n",
    "\n",
    "primeNumbersEratosthenesForMeasurments = '''\n",
    "def primeNumbersEratosthenes(N):\n",
    "    arr = np.arange(2,N)\n",
    "    mask = (arr % 2 != 0)\n",
    "    arr = arr[mask]\n",
    "    mask = mask[mask]\n",
    "    primes = np.array([2])\n",
    "    while arr.shape[0]:\n",
    "        p = arr[0]\n",
    "        arr = arr[arr % p != 0]\n",
    "        \n",
    "        primes =  np.append(primes, p)\n",
    "\n",
    "    return primes\n",
    "primeNumbersEratosthenes(100)\n",
    "'''\n",
    "\n",
    "print(\"Execution time\", timeit.timeit(stmt=primeNumbersForMeasurments, setup = importing, number=1000))\n",
    "print(\"Execution time\", timeit.timeit(stmt=primeNumbersEratosthenesForMeasurments, setup = importing, number=1000))"
   ]
  },
  {
   "cell_type": "markdown",
   "metadata": {},
   "source": [
    "8\\. **Diffusion using random walk**\n",
    "\n",
    "Consider a simple random walk process: at each step in time, a walker jumps right or left (+1 or -1) with equal probability. The goal is to find the typical distance from the origin of many random walkers after a given amount of time.\n",
    "\n",
    "*Hint*: create a 2D array where each row represents a walker, and each column represents a time step.\n",
    "\n",
    "  * Take 1000 walkers and let them walk for 200 steps\n",
    "  * Use `randint` to create a 2D array of size $walkers \\times steps$ with values -1 or 1\n",
    "  * Calculate the walking distances for each walker (e.g. by summing the elements in each row)\n",
    "  * Take the square of the previously-obtained array (element-wise)\n",
    "  * Compute the mean of the squared distances at each step (i.e. the mean along the columns)\n",
    "  * **Optional**: plot the average distances ($\\sqrt(distance^2)$) as a function of time (step)"
   ]
  },
  {
   "cell_type": "code",
   "execution_count": 127,
   "metadata": {},
   "outputs": [
    {
     "name": "stdout",
     "output_type": "stream",
     "text": [
      "[[ 1 -1 -1 ... -1 -1  1]\n",
      " [-1 -1  1 ... -1 -1  1]\n",
      " [-1  1 -1 ...  1 -1  1]\n",
      " ...\n",
      " [ 1  1 -1 ...  1 -1  1]\n",
      " [-1 -1  1 ... -1  1  1]\n",
      " [-1  1  1 ...  1 -1  1]]\n"
     ]
    }
   ],
   "source": [
    "matrix = npr.randint(0, 2, (1000,200)) * 2 - 1\n"
   ]
  }
 ],
 "metadata": {
  "kernelspec": {
   "display_name": "Python 3 (ipykernel)",
   "language": "python",
   "name": "python3"
  },
  "language_info": {
   "codemirror_mode": {
    "name": "ipython",
    "version": 3
   },
   "file_extension": ".py",
   "mimetype": "text/x-python",
   "name": "python",
   "nbconvert_exporter": "python",
   "pygments_lexer": "ipython3",
   "version": "3.11.5"
  }
 },
 "nbformat": 4,
 "nbformat_minor": 2
}
