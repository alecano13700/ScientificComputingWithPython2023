{
 "cells": [
  {
   "cell_type": "markdown",
   "metadata": {},
   "source": [
    "1\\. **Reductions**\n",
    "\n",
    "Given the following matrix:\n",
    "\n",
    "```python\n",
    "m = np.arange(12).reshape((3,4))\n",
    "```\n",
    "\n",
    "   1. find the total mean\n",
    "   2. find the mean for each row and column"
   ]
  },
  {
   "cell_type": "code",
   "execution_count": 1,
   "metadata": {},
   "outputs": [],
   "source": [
    "import numpy as np\n",
    "import timeit\n",
    "import numpy.random as npr\n",
    "import math\n",
    "import matplotlib.pyplot as plt"
   ]
  },
  {
   "cell_type": "code",
   "execution_count": 2,
   "metadata": {},
   "outputs": [
    {
     "name": "stdout",
     "output_type": "stream",
     "text": [
      "[[ 0  1  2  3]\n",
      " [ 4  5  6  7]\n",
      " [ 8  9 10 11]]\n",
      "Total mean 5.5\n",
      "Mean for each col [4. 5. 6. 7.]\n",
      "Mean for each row [1.5 5.5 9.5]\n"
     ]
    }
   ],
   "source": [
    "m = np.arange(12).reshape((3,4))\n",
    "print(m)\n",
    "\n",
    "print('Total mean',m.mean())\n",
    "print('Mean for each col',m.mean(axis=0))\n",
    "print('Mean for each row',m.mean(axis=1))\n"
   ]
  },
  {
   "cell_type": "markdown",
   "metadata": {},
   "source": [
    "2\\. **Outer product**\n",
    "\n",
    "Find the outer product of the following vectors:\n",
    "\n",
    "```python\n",
    "u = np.array([1, 3, 5, 7])\n",
    "v = np.array([2, 4, 6, 8])\n",
    "```\n",
    "\n",
    "Use different methods to do this:\n",
    "\n",
    "   1. Using the function `outer` in numpy\n",
    "   2. Using a nested `for` loop or a list comprehension\n",
    "   3. Using numpy broadcasting operations"
   ]
  },
  {
   "cell_type": "code",
   "execution_count": 3,
   "metadata": {},
   "outputs": [
    {
     "name": "stdout",
     "output_type": "stream",
     "text": [
      "u = [1 3 5 7]\n",
      "v = [2 4 6 8]\n",
      "\n",
      "using the function outer in numpy\n",
      " [[ 2  4  6  8]\n",
      " [ 6 12 18 24]\n",
      " [10 20 30 40]\n",
      " [14 28 42 56]]\n",
      "\n",
      "using a nested for loop or a list comprehension\n",
      "[[ 2  4  6  8]\n",
      " [ 6 12 18 24]\n",
      " [10 20 30 40]\n",
      " [14 28 42 56]]\n",
      "\n",
      "using numpy broadcasting operations\n",
      " [[ 2  4  6  8]\n",
      " [ 6 12 18 24]\n",
      " [10 20 30 40]\n",
      " [14 28 42 56]]\n"
     ]
    }
   ],
   "source": [
    "u = np.array([1, 3, 5, 7])\n",
    "v = np.array([2, 4, 6, 8])\n",
    "print('u =',u)\n",
    "print('v =',v)\n",
    "\n",
    "print('\\nusing the function outer in numpy\\n',np.outer(u,v))\n",
    "print('\\nusing a nested for loop or a list comprehension')\n",
    "matrix = []\n",
    "for i in range(len(u)):\n",
    "    for j in range(len(v)):\n",
    "        matrix.append(u[i]*v[j])\n",
    "    \n",
    "    \n",
    "A = np.array(matrix).reshape(len(u),len(v))\n",
    "print(A)\n",
    "\n",
    "u = u[:,np.newaxis]\n",
    "print('\\nusing numpy broadcasting operations\\n',u*v)\n"
   ]
  },
  {
   "cell_type": "code",
   "execution_count": null,
   "metadata": {},
   "outputs": [],
   "source": []
  },
  {
   "cell_type": "markdown",
   "metadata": {},
   "source": [
    "3\\. **Matrix masking**\n",
    "\n",
    "Create a $10 \\times 6$ matrix of float random numbers, distributed between 0 and 3 according to a flat distribution.\n",
    "\n",
    "After creating the matrix, set all entries $< 0.3$ to zero using a mask."
   ]
  },
  {
   "cell_type": "code",
   "execution_count": 4,
   "metadata": {},
   "outputs": [
    {
     "name": "stdout",
     "output_type": "stream",
     "text": [
      "10 x 6 matrix with rand values between 0 and 3\n",
      " [[2.39561486 2.33933217 0.37648552 2.2720816  1.53446759 0.78959433]\n",
      " [1.82326866 2.74344778 2.64435184 0.08533666 1.26113309 2.37184201]\n",
      " [1.78334975 1.32973821 0.42504    1.61110604 2.70405105 1.49593759]\n",
      " [2.3592787  1.02737609 2.45287512 0.57457852 0.29841439 0.76349164]\n",
      " [1.46775022 2.98885508 0.3926128  1.70434077 2.85262602 1.26366279]\n",
      " [0.28758479 0.46359097 0.10404149 1.45876574 0.16411385 1.24202759]\n",
      " [2.34765303 2.0512275  2.05276529 2.84719059 1.12328421 1.11144462]\n",
      " [1.67103086 1.32665456 0.77175384 2.87641975 0.94009971 2.23538838]\n",
      " [2.68550909 0.31527245 2.18841144 2.74151737 2.58375346 1.9937399 ]\n",
      " [0.53174175 1.04698468 1.87414418 2.58898848 1.4042547  2.94244595]]\n",
      "\n",
      "10 x 6 matrix modified\n",
      " [[2.39561486 2.33933217 0.37648552 2.2720816  1.53446759 0.78959433]\n",
      " [1.82326866 2.74344778 2.64435184 0.         1.26113309 2.37184201]\n",
      " [1.78334975 1.32973821 0.42504    1.61110604 2.70405105 1.49593759]\n",
      " [2.3592787  1.02737609 2.45287512 0.57457852 0.         0.76349164]\n",
      " [1.46775022 2.98885508 0.3926128  1.70434077 2.85262602 1.26366279]\n",
      " [0.         0.46359097 0.         1.45876574 0.         1.24202759]\n",
      " [2.34765303 2.0512275  2.05276529 2.84719059 1.12328421 1.11144462]\n",
      " [1.67103086 1.32665456 0.77175384 2.87641975 0.94009971 2.23538838]\n",
      " [2.68550909 0.31527245 2.18841144 2.74151737 2.58375346 1.9937399 ]\n",
      " [0.53174175 1.04698468 1.87414418 2.58898848 1.4042547  2.94244595]]\n"
     ]
    }
   ],
   "source": [
    "import numpy.random as npr\n",
    "A = npr.uniform(low=0.0, high=3.0, size=(10,6))\n",
    "print('10 x 6 matrix with rand values between 0 and 3\\n',A)\n",
    "mask =(A<0.3)\n",
    "A[A<0.3]=0\n",
    "print('\\n10 x 6 matrix modified\\n',A)"
   ]
  },
  {
   "cell_type": "markdown",
   "metadata": {},
   "source": [
    "4\\. **Trigonometric functions**\n",
    "\n",
    "Use `np.linspace` to create an array of 100 numbers between $0$ and $2\\pi$ (inclusive).\n",
    "\n",
    "  * Extract every 10th element using the slice notation\n",
    "  * Reverse the array using the slice notation\n",
    "  * Extract elements where the absolute difference between the `sin` and `cos` functions evaluated for that element is $< 0.1$\n",
    "  * **Optional**: make a plot showing the `sin` and `cos` functions and indicate graphically (with a line or a marker) where they are close"
   ]
  },
  {
   "cell_type": "code",
   "execution_count": 5,
   "metadata": {},
   "outputs": [
    {
     "name": "stdout",
     "output_type": "stream",
     "text": [
      "array pi:\n",
      " [0.         0.06346652 0.12693304 0.19039955 0.25386607 0.31733259\n",
      " 0.38079911 0.44426563 0.50773215 0.57119866 0.63466518 0.6981317\n",
      " 0.76159822 0.82506474 0.88853126 0.95199777 1.01546429 1.07893081\n",
      " 1.14239733 1.20586385 1.26933037 1.33279688 1.3962634  1.45972992\n",
      " 1.52319644 1.58666296 1.65012947 1.71359599 1.77706251 1.84052903\n",
      " 1.90399555 1.96746207 2.03092858 2.0943951  2.15786162 2.22132814\n",
      " 2.28479466 2.34826118 2.41172769 2.47519421 2.53866073 2.60212725\n",
      " 2.66559377 2.72906028 2.7925268  2.85599332 2.91945984 2.98292636\n",
      " 3.04639288 3.10985939 3.17332591 3.23679243 3.30025895 3.36372547\n",
      " 3.42719199 3.4906585  3.55412502 3.61759154 3.68105806 3.74452458\n",
      " 3.8079911  3.87145761 3.93492413 3.99839065 4.06185717 4.12532369\n",
      " 4.1887902  4.25225672 4.31572324 4.37918976 4.44265628 4.5061228\n",
      " 4.56958931 4.63305583 4.69652235 4.75998887 4.82345539 4.88692191\n",
      " 4.95038842 5.01385494 5.07732146 5.14078798 5.2042545  5.26772102\n",
      " 5.33118753 5.39465405 5.45812057 5.52158709 5.58505361 5.64852012\n",
      " 5.71198664 5.77545316 5.83891968 5.9023862  5.96585272 6.02931923\n",
      " 6.09278575 6.15625227 6.21971879 6.28318531]\n",
      "Extract every 10th element using the slice notation:\n",
      " [0.         0.63466518 1.26933037 1.90399555 2.53866073 3.17332591\n",
      " 3.8079911  4.44265628 5.07732146 5.71198664]\n",
      "Reverse the array using the slice notation:\n",
      " [6.28318531 6.21971879 6.15625227 6.09278575 6.02931923 5.96585272\n",
      " 5.9023862  5.83891968 5.77545316 5.71198664 5.64852012 5.58505361\n",
      " 5.52158709 5.45812057 5.39465405 5.33118753 5.26772102 5.2042545\n",
      " 5.14078798 5.07732146 5.01385494 4.95038842 4.88692191 4.82345539\n",
      " 4.75998887 4.69652235 4.63305583 4.56958931 4.5061228  4.44265628\n",
      " 4.37918976 4.31572324 4.25225672 4.1887902  4.12532369 4.06185717\n",
      " 3.99839065 3.93492413 3.87145761 3.8079911  3.74452458 3.68105806\n",
      " 3.61759154 3.55412502 3.4906585  3.42719199 3.36372547 3.30025895\n",
      " 3.23679243 3.17332591 3.10985939 3.04639288 2.98292636 2.91945984\n",
      " 2.85599332 2.7925268  2.72906028 2.66559377 2.60212725 2.53866073\n",
      " 2.47519421 2.41172769 2.34826118 2.28479466 2.22132814 2.15786162\n",
      " 2.0943951  2.03092858 1.96746207 1.90399555 1.84052903 1.77706251\n",
      " 1.71359599 1.65012947 1.58666296 1.52319644 1.45972992 1.3962634\n",
      " 1.33279688 1.26933037 1.20586385 1.14239733 1.07893081 1.01546429\n",
      " 0.95199777 0.88853126 0.82506474 0.76159822 0.6981317  0.63466518\n",
      " 0.57119866 0.50773215 0.44426563 0.38079911 0.31733259 0.25386607\n",
      " 0.19039955 0.12693304 0.06346652 0.        ]\n",
      "Extract elements where the absolute difference between the sin and cos functions evaluated for that element is  <0.1\n",
      "[0.         0.06346652 0.12693304 0.19039955 0.25386607 0.31733259\n",
      " 0.38079911 0.44426563 0.50773215 0.57119866 0.63466518 0.6981317\n",
      " 0.76159822 0.82506474 3.87145761 3.93492413 3.99839065 4.06185717\n",
      " 4.12532369 4.1887902  4.25225672 4.31572324 4.37918976 4.44265628\n",
      " 4.5061228  4.56958931 4.63305583 4.69652235 4.75998887 4.82345539\n",
      " 4.88692191 4.95038842 5.01385494 5.07732146 5.14078798 5.2042545\n",
      " 5.26772102 5.33118753 5.39465405 5.45812057 5.52158709 5.58505361\n",
      " 5.64852012 5.71198664 5.77545316 5.83891968 5.9023862  5.96585272\n",
      " 6.02931923 6.09278575 6.15625227 6.21971879 6.28318531]\n"
     ]
    }
   ],
   "source": [
    "pi = np.linspace(0,2*np.pi,100)\n",
    "print('array pi:\\n',pi)\n",
    "print('Extract every 10th element using the slice notation:\\n',pi[::10])\n",
    "print('Reverse the array using the slice notation:\\n',pi[::-1])\n",
    "print('Extract elements where the absolute difference between the sin and cos functions evaluated for that element is  <0.1')\n",
    "print(pi[np.sin(pi)-np.cos(pi)<0.1])\n",
    "\n"
   ]
  },
  {
   "cell_type": "markdown",
   "metadata": {},
   "source": [
    "5\\. **Matrices**\n",
    "\n",
    "Create a matrix that shows the $10 \\times 10$ multiplication table.\n",
    "\n",
    " * Find the trace of the matrix\n",
    " * Extract the anti-diagonal matrix (this should be ```array([10, 18, 24, 28, 30, 30, 28, 24, 18, 10])```)\n",
    " * Extract the diagonal offset by 1 upwards (this should be ```array([ 2,  6, 12, 20, 30, 42, 56, 72, 90])```)"
   ]
  },
  {
   "cell_type": "code",
   "execution_count": 6,
   "metadata": {},
   "outputs": [
    {
     "name": "stdout",
     "output_type": "stream",
     "text": [
      "Matrix:\n",
      " [[  1.   2.   3.   4.   5.   6.   7.   8.   9.  10.]\n",
      " [  2.   4.   6.   8.  10.  12.  14.  16.  18.  20.]\n",
      " [  3.   6.   9.  12.  15.  18.  21.  24.  27.  30.]\n",
      " [  4.   8.  12.  16.  20.  24.  28.  32.  36.  40.]\n",
      " [  5.  10.  15.  20.  25.  30.  35.  40.  45.  50.]\n",
      " [  6.  12.  18.  24.  30.  36.  42.  48.  54.  60.]\n",
      " [  7.  14.  21.  28.  35.  42.  49.  56.  63.  70.]\n",
      " [  8.  16.  24.  32.  40.  48.  56.  64.  72.  80.]\n",
      " [  9.  18.  27.  36.  45.  54.  63.  72.  81.  90.]\n",
      " [ 10.  20.  30.  40.  50.  60.  70.  80.  90. 100.]]\n",
      "Find the trace of the matrix:  385.0\n",
      "Extract the anti-diagonal matrix (this should be array([10, 18, 24, 28, 30, 30, 28, 24, 18, 10])):\n",
      "[10. 18. 24. 28. 30. 30. 28. 24. 18. 10.]\n",
      "Extract the diagonal offset by 1 upwards (this should be array([ 2,  6, 12, 20, 30, 42, 56, 72, 90])):\n",
      "[ 2.  6. 12. 20. 30. 42. 56. 72. 90.]\n"
     ]
    }
   ],
   "source": [
    "mx = np.fromfunction(lambda i,j: (i+1)*(j+1), (10,10))\n",
    "print('Matrix:\\n',mx)\n",
    "\n",
    "print('Find the trace of the matrix: ',np.sum(np.diag(mx)))\n",
    "print('Extract the anti-diagonal matrix (this should be array([10, 18, 24, 28, 30, 30, 28, 24, 18, 10])):')\n",
    "print(np.diag(np.fliplr(mx)))\n",
    "print('Extract the diagonal offset by 1 upwards (this should be array([ 2,  6, 12, 20, 30, 42, 56, 72, 90])):')\n",
    "print(np.diag(mx,1))"
   ]
  },
  {
   "cell_type": "markdown",
   "metadata": {},
   "source": [
    "6\\. **Broadcasting**\n",
    "\n",
    "Use broadcasting to create a grid of distances.\n",
    "\n",
    "Route 66 crosses the following cities in the US: Chicago, Springfield, Saint-Louis, Tulsa, Oklahoma City, Amarillo, Santa Fe, Albuquerque, Flagstaff, Los Angeles.\n",
    "\n",
    "The corresponding positions in miles are: `0, 198, 303, 736, 871, 1175, 1475, 1544, 1913, 2448`\n",
    "\n",
    "  * Build a 2D grid of distances among each city along Route 66\n",
    "  * Convert the distances in km"
   ]
  },
  {
   "cell_type": "code",
   "execution_count": 7,
   "metadata": {},
   "outputs": [
    {
     "name": "stdout",
     "output_type": "stream",
     "text": [
      "[   0  198  303  736  871 1175 1475 1544 1913 2448]\n",
      "[[   0]\n",
      " [ 198]\n",
      " [ 303]\n",
      " [ 736]\n",
      " [ 871]\n",
      " [1175]\n",
      " [1475]\n",
      " [1544]\n",
      " [1913]\n",
      " [2448]]\n",
      "[[   0  198  303  736  871 1175 1475 1544 1913 2448]\n",
      " [   0    0  105  538  673  977 1277 1346 1715 2250]\n",
      " [   0    0    0  433  568  872 1172 1241 1610 2145]\n",
      " [   0    0    0    0  135  439  739  808 1177 1712]\n",
      " [   0    0    0    0    0  304  604  673 1042 1577]\n",
      " [   0    0    0    0    0    0  300  369  738 1273]\n",
      " [   0    0    0    0    0    0    0   69  438  973]\n",
      " [   0    0    0    0    0    0    0    0  369  904]\n",
      " [   0    0    0    0    0    0    0    0    0  535]\n",
      " [   0    0    0    0    0    0    0    0    0    0]]\n",
      "[[   0.       318.64932  487.63002 1184.47424 1401.73514 1890.9745\n",
      "  2373.7765  2484.82096 3078.66742 3939.66432]\n",
      " [   0.         0.       168.9807   865.82492 1083.08582 1572.32518\n",
      "  2055.12718 2166.17164 2760.0181  3621.015  ]\n",
      " [   0.         0.         0.       696.84422  914.10512 1403.34448\n",
      "  1886.14648 1997.19094 2591.0374  3452.0343 ]\n",
      " [   0.         0.         0.         0.       217.2609   706.50026\n",
      "  1189.30226 1300.34672 1894.19318 2755.19008]\n",
      " [   0.         0.         0.         0.         0.       489.23936\n",
      "   972.04136 1083.08582 1676.93228 2537.92918]\n",
      " [   0.         0.         0.         0.         0.         0.\n",
      "   482.802    593.84646 1187.69292 2048.68982]\n",
      " [   0.         0.         0.         0.         0.         0.\n",
      "     0.       111.04446  704.89092 1565.88782]\n",
      " [   0.         0.         0.         0.         0.         0.\n",
      "     0.         0.       593.84646 1454.84336]\n",
      " [   0.         0.         0.         0.         0.         0.\n",
      "     0.         0.         0.       860.9969 ]\n",
      " [   0.         0.         0.         0.         0.         0.\n",
      "     0.         0.         0.         0.     ]]\n"
     ]
    }
   ],
   "source": [
    "dist = np.array([0, 198, 303, 736, 871, 1175, 1475, 1544, 1913, 2448])\n",
    "print(dist)\n",
    "dist_vertical = dist.reshape(10,1)\n",
    "print(dist_vertical)\n",
    "matrix = np.triu(dist-dist_vertical)\n",
    "print(matrix)\n",
    "matrix_km = matrix * 1.60934\n",
    "print(matrix_km)"
   ]
  },
  {
   "cell_type": "markdown",
   "metadata": {},
   "source": [
    "7\\. **Prime numbers sieve**\n",
    "\n",
    "Compute the prime numbers in the 0-N (start with N=99) range with a sieve (mask).\n",
    "\n",
    "  * Construct a shape (N,) boolean array, which is the mask\n",
    "  * Identify the multiples of each number starting from 2 and set accordingly the corresponding mask element\n",
    "  * Apply the mask to obtain an array of ordered prime numbers\n",
    "  * Check the performances (with `timeit`); how does it scale with N?\n",
    "  * Implement the optimization suggested in the [sieve of Eratosthenes](https://en.wikipedia.org/wiki/Sieve_of_Eratosthenes)"
   ]
  },
  {
   "cell_type": "code",
   "execution_count": 8,
   "metadata": {},
   "outputs": [
    {
     "name": "stdout",
     "output_type": "stream",
     "text": [
      "[ 2  3  5  7 11 13 17 19 23 29 31 37 41 43 47 53 59 61 67 71 73 79 83 89\n",
      " 97]\n",
      "[ 2  3  5  7 11 13 17 19 23 29 31 37 41 43 47 53 59 61 67 71 73 79 83 89\n",
      " 97]\n",
      "Execution time 0.10583658399991691\n",
      "Execution time 0.0869756669853814\n"
     ]
    }
   ],
   "source": [
    "def primeNumbers(N):\n",
    "    arr = np.arange(2,N)\n",
    "    mask = (arr %2!=0)\n",
    "    mask[0]=True\n",
    "    arr = arr[mask]\n",
    "    mask = mask[mask]\n",
    "    for j in arr[arr>2]:\n",
    "        for i in arr[arr<j]:\n",
    "            if (j % i) == 0:\n",
    "                arr = arr[arr != j]\n",
    "                break\n",
    "    return arr\n",
    "    \n",
    "def primeNumbersEratosthenes(N):\n",
    "    arr = np.arange(2,N)\n",
    "    mask = (arr % 2 != 0)\n",
    "    arr = arr[mask]\n",
    "    mask = mask[mask]\n",
    "    primes = np.array([2])\n",
    "    while arr.shape[0]:\n",
    "        p = arr[0]\n",
    "        arr = arr[arr % p != 0]\n",
    "        \n",
    "        primes =  np.append(primes, p)\n",
    "\n",
    "    return primes\n",
    "\n",
    "    \n",
    "    \n",
    "    \n",
    "print(primeNumbers(100))\n",
    "print(primeNumbersEratosthenes(100))\n",
    "\n",
    "importing = \"import numpy as np\"\n",
    "primeNumbersForMeasurments = '''\n",
    "def primeNumbers(N):\n",
    "    arr = np.arange(2,N)\n",
    "    mask = (arr %2!=0)\n",
    "    mask[0]=True\n",
    "    arr = arr[mask]\n",
    "    mask = mask[mask]\n",
    "    for j in arr[arr>2]:\n",
    "        for i in arr[arr<j]:\n",
    "            if (j % i) == 0:\n",
    "                arr = arr[arr != j]\n",
    "                break\n",
    "    return arr\n",
    "\n",
    "primeNumbers(100)\n",
    "'''\n",
    "\n",
    "primeNumbersEratosthenesForMeasurments = '''\n",
    "def primeNumbersEratosthenes(N):\n",
    "    arr = np.arange(2,N)\n",
    "    mask = (arr % 2 != 0)\n",
    "    arr = arr[mask]\n",
    "    mask = mask[mask]\n",
    "    primes = np.array([2])\n",
    "    while arr.shape[0]:\n",
    "        p = arr[0]\n",
    "        arr = arr[arr % p != 0]\n",
    "        \n",
    "        primes =  np.append(primes, p)\n",
    "\n",
    "    return primes\n",
    "primeNumbersEratosthenes(100)\n",
    "'''\n",
    "\n",
    "print(\"Execution time\", timeit.timeit(stmt=primeNumbersForMeasurments, setup = importing, number=1000))\n",
    "print(\"Execution time\", timeit.timeit(stmt=primeNumbersEratosthenesForMeasurments, setup = importing, number=1000))"
   ]
  },
  {
   "cell_type": "markdown",
   "metadata": {},
   "source": [
    "8\\. **Diffusion using random walk**\n",
    "\n",
    "Consider a simple random walk process: at each step in time, a walker jumps right or left (+1 or -1) with equal probability. The goal is to find the typical distance from the origin of many random walkers after a given amount of time.\n",
    "\n",
    "*Hint*: create a 2D array where each row represents a walker, and each column represents a time step.\n",
    "\n",
    "  * Take 1000 walkers and let them walk for 200 steps\n",
    "  * Use `randint` to create a 2D array of size $walkers \\times steps$ with values -1 or 1\n",
    "  * Calculate the walking distances for each walker (e.g. by summing the elements in each row)\n",
    "  * Take the square of the previously-obtained array (element-wise)\n",
    "  * Compute the mean of the squared distances at each step (i.e. the mean along the columns)\n",
    "  * **Optional**: plot the average distances ($\\sqrt(distance^2)$) as a function of time (step)"
   ]
  },
  {
   "cell_type": "code",
   "execution_count": 13,
   "metadata": {},
   "outputs": [
    {
     "data": {
      "image/png": "[encoded data removed]",
      "text/plain": [
       "<Figure size 640x480 with 1 Axes>"
      ]
     },
     "metadata": {},
     "output_type": "display_data"
    }
   ],
   "source": [
    "matrix = npr.randint(0, 2, (1000,200)) * 2 - 1\n",
    "row_sums = np.cumsum(matrix, axis=1)\n",
    "squared_rows = row_sums**2\n",
    "mean = np.mean(squared_rows,axis=0)\n",
    "dist = np.sqrt(mean)\n",
    "plt.plot(dist)\n",
    "plt.show()"
   ]
  }
 ],
 "metadata": {
  "kernelspec": {
   "display_name": "Python 3 (ipykernel)",
   "language": "python",
   "name": "python3"
  },
  "language_info": {
   "codemirror_mode": {
    "name": "ipython",
    "version": 3
   },
   "file_extension": ".py",
   "mimetype": "text/x-python",
   "name": "python",
   "nbconvert_exporter": "python",
   "pygments_lexer": "ipython3",
   "version": "3.11.5"
  }
 },
 "nbformat": 4,
 "nbformat_minor": 2
}
